{
 "cells": [
  {
   "cell_type": "code",
   "execution_count": 1,
   "metadata": {
    "collapsed": false
   },
   "outputs": [],
   "source": [
    "import pandas as pd\n",
    "\n",
    "file_path = \"C:\\\\Users\\\\aoguntuga\\\\Documents\\\\Sentiment Analysis Research\\\\Data\\\\sentiment_analysis_data.xls\"\n",
    "\n",
    "xl_file = pd.ExcelFile(file_path)\n",
    "sheetNames = xl_file.sheet_names"
   ]
  },
  {
   "cell_type": "code",
   "execution_count": 10,
   "metadata": {
    "collapsed": false
   },
   "outputs": [
    {
     "data": {
      "text/html": [
       "<div>\n",
       "<table border=\"1\" class=\"dataframe\">\n",
       "  <thead>\n",
       "    <tr style=\"text-align: right;\">\n",
       "      <th></th>\n",
       "      <th>NoteID</th>\n",
       "      <th>Polarity</th>\n",
       "      <th>Subjectivity</th>\n",
       "      <th>Lab_HbA1C</th>\n",
       "      <th>HbA1C</th>\n",
       "      <th>Compliance Group</th>\n",
       "    </tr>\n",
       "  </thead>\n",
       "  <tbody>\n",
       "    <tr>\n",
       "      <th>0</th>\n",
       "      <td>36493133</td>\n",
       "      <td>-0.072222</td>\n",
       "      <td>0.225000</td>\n",
       "      <td>6.3</td>\n",
       "      <td>6.3</td>\n",
       "      <td>1</td>\n",
       "    </tr>\n",
       "    <tr>\n",
       "      <th>1</th>\n",
       "      <td>37477202</td>\n",
       "      <td>-0.060204</td>\n",
       "      <td>0.097619</td>\n",
       "      <td>6.7</td>\n",
       "      <td>6.7</td>\n",
       "      <td>1</td>\n",
       "    </tr>\n",
       "    <tr>\n",
       "      <th>2</th>\n",
       "      <td>37508754</td>\n",
       "      <td>0.002500</td>\n",
       "      <td>0.082500</td>\n",
       "      <td>6.1</td>\n",
       "      <td>6.1</td>\n",
       "      <td>1</td>\n",
       "    </tr>\n",
       "    <tr>\n",
       "      <th>3</th>\n",
       "      <td>37733788</td>\n",
       "      <td>-0.020833</td>\n",
       "      <td>0.059722</td>\n",
       "      <td>6.5</td>\n",
       "      <td>6.5</td>\n",
       "      <td>1</td>\n",
       "    </tr>\n",
       "    <tr>\n",
       "      <th>4</th>\n",
       "      <td>37789050</td>\n",
       "      <td>-0.008333</td>\n",
       "      <td>0.298016</td>\n",
       "      <td>6.8</td>\n",
       "      <td>6.8</td>\n",
       "      <td>1</td>\n",
       "    </tr>\n",
       "  </tbody>\n",
       "</table>\n",
       "</div>"
      ],
      "text/plain": [
       "     NoteID  Polarity  Subjectivity  Lab_HbA1C  HbA1C  Compliance Group\n",
       "0  36493133 -0.072222      0.225000        6.3    6.3                 1\n",
       "1  37477202 -0.060204      0.097619        6.7    6.7                 1\n",
       "2  37508754  0.002500      0.082500        6.1    6.1                 1\n",
       "3  37733788 -0.020833      0.059722        6.5    6.5                 1\n",
       "4  37789050 -0.008333      0.298016        6.8    6.8                 1"
      ]
     },
     "execution_count": 10,
     "metadata": {},
     "output_type": "execute_result"
    }
   ],
   "source": [
    "dframe1 = xl_file.parse(sheetNames[0])\n",
    "dframe2 = xl_file.parse(sheetNames[1])\n",
    "dframe3 = xl_file.parse(sheetNames[2])\n",
    "dframe1.head()"
   ]
  },
  {
   "cell_type": "markdown",
   "metadata": {},
   "source": [
    "Running tests for normality: Sharpiro-Wilks (if p > 0.05, distribution normally distributed and vice versa if less)."
   ]
  },
  {
   "cell_type": "code",
   "execution_count": 11,
   "metadata": {
    "collapsed": true
   },
   "outputs": [],
   "source": [
    "import numpy as np\n",
    "from scipy import stats\n",
    "\n",
    "#group 1: Patients with good control over their diabetes\n",
    "grp1_polarity_array = np.array(dframe1['Polarity'])\n",
    "grp1_subjectivity_array = np.array(dframe1['Subjectivity'])\n",
    "\n",
    "#group 2: Patients with fair control over their diabetes\n",
    "grp2_polarity_array = np.array(dframe2['Polarity'])\n",
    "grp2_subjectivity_array = np.array(dframe2['Subjectivity'])\n",
    "\n",
    "#group 3: Patients with poor control over their diabetes\n",
    "grp3_polarity_array = np.array(dframe3['Polarity'])\n",
    "grp3_subjectivity_array = np.array(dframe3['Subjectivity'])"
   ]
  },
  {
   "cell_type": "code",
   "execution_count": 12,
   "metadata": {
    "collapsed": false
   },
   "outputs": [],
   "source": [
    "#Shapiro-Wilks tests for polarity & subjectivity Group 1\n",
    "polarity_shapiro_1 = stats.shapiro(grp1_polarity_array)\n",
    "subjectivity_shapiro_1 = stats.shapiro(grp1_subjectivity_array)\n",
    "\n",
    "#Shapiro-Wilks tests for polarity & subjectivity Group 2\n",
    "polarity_shapiro_2 = stats.shapiro(grp2_polarity_array)\n",
    "subjectivity_shapiro_2 = stats.shapiro(grp2_subjectivity_array)\n",
    "\n",
    "#Shapiro-Wilks tests for polarity & subjectivity Group 3\n",
    "polarity_shapiro_3 = stats.shapiro(grp3_polarity_array)\n",
    "subjectivity_shapiro_3 = stats.shapiro(grp3_subjectivity_array)"
   ]
  },
  {
   "cell_type": "code",
   "execution_count": 13,
   "metadata": {
    "collapsed": false
   },
   "outputs": [
    {
     "name": "stdout",
     "output_type": "stream",
     "text": [
      "Grp 1 Polarity normality score (Shapiro-Wilks): 0.876280665398, p-value: 2.59959285001e-12\n",
      "Grp 1 Subjectivity normality score (Shapiro-Wilks): 0.977149784565, p-value: 0.00135978835169\n",
      "---------------------------------------------------------------------\n",
      "Grp 2 Polarity normality score (Shapiro-Wilks): 0.990012526512, p-value: 0.106945179403\n",
      "Grp 2 Subjectivity normality score (Shapiro-Wilks): 0.960779368877, p-value: 5.04924264533e-06\n",
      "---------------------------------------------------------------------\n",
      "Grp 3 Polarity normality score (Shapiro-Wilks): 0.918471574783, p-value: 0.000596269732341\n",
      "Grp 3 Subjectivity normality score (Shapiro-Wilks): 0.949299871922, p-value: 0.0133532118052\n"
     ]
    }
   ],
   "source": [
    "print \"Grp 1 Polarity normality score (Shapiro-Wilks): %s, p-value: %s\" % (polarity_shapiro_1[0],polarity_shapiro_1[1])\n",
    "print \"Grp 1 Subjectivity normality score (Shapiro-Wilks): %s, p-value: %s\" % (subjectivity_shapiro_1[0],subjectivity_shapiro_1[1])\n",
    "print \"---------------------------------------------------------------------\"\n",
    "print \"Grp 2 Polarity normality score (Shapiro-Wilks): %s, p-value: %s\" % (polarity_shapiro_2[0],polarity_shapiro_2[1])\n",
    "print \"Grp 2 Subjectivity normality score (Shapiro-Wilks): %s, p-value: %s\" % (subjectivity_shapiro_2[0],subjectivity_shapiro_2[1])\n",
    "print \"---------------------------------------------------------------------\"\n",
    "print \"Grp 3 Polarity normality score (Shapiro-Wilks): %s, p-value: %s\" % (polarity_shapiro_3[0],polarity_shapiro_3[1])\n",
    "print \"Grp 3 Subjectivity normality score (Shapiro-Wilks): %s, p-value: %s\" % (subjectivity_shapiro_3[0],subjectivity_shapiro_3[1])"
   ]
  },
  {
   "cell_type": "code",
   "execution_count": 23,
   "metadata": {
    "collapsed": false
   },
   "outputs": [
    {
     "name": "stdout",
     "output_type": "stream",
     "text": [
      "Group 1 Polarity > Skewness: -1.86270489815| Kurtosis: 14.1387359458\n",
      "Group 1 Subjectivity > Skewness: -0.0520459897884| Kurtosis: -0.827411678843\n",
      "--------------------------------------------------------------------------------------------------------------------------------------\n",
      "Group 2 Polarity > Skewness: -0.0251377378904| Kurtosis: 0.579949406093\n",
      "Group 2 Subjectivity > Skewness: 0.101575597076| Kurtosis: -1.06098828334\n",
      "-------------------------------------------------------------------------------------------------------------------------------------- \n",
      "Group 3 Polarity > Skewness: 0.729709247063| Kurtosis: 4.53355485772\n",
      "Group 3 Subjectivity > Skewness: -0.397242897675| Kurtosis: -0.523869122848\n"
     ]
    }
   ],
   "source": [
    "print \"Group 1 Polarity > Skewness: %s| Kurtosis: %s\" % (stats.describe(grp1_polarity_array).skewness,stats.describe(grp1_polarity_array).kurtosis)\n",
    "print \"Group 1 Subjectivity > Skewness: %s| Kurtosis: %s\" % (stats.describe(grp1_subjectivity_array).skewness,stats.describe(grp1_subjectivity_array).kurtosis)\n",
    "print \"--------------------------------------------------------------------------------------------------------------------------------------\"\n",
    "print \"Group 2 Polarity > Skewness: %s| Kurtosis: %s\" % (stats.describe(grp2_polarity_array).skewness,stats.describe(grp2_polarity_array).kurtosis)\n",
    "print \"Group 2 Subjectivity > Skewness: %s| Kurtosis: %s\" % (stats.describe(grp2_subjectivity_array).skewness,stats.describe(grp2_subjectivity_array).kurtosis)\n",
    "print \"-------------------------------------------------------------------------------------------------------------------------------------- \"\n",
    "print \"Group 3 Polarity > Skewness: %s| Kurtosis: %s\" % (stats.describe(grp3_polarity_array).skewness,stats.describe(grp3_polarity_array).kurtosis)\n",
    "print \"Group 3 Subjectivity > Skewness: %s| Kurtosis: %s\" % (stats.describe(grp3_subjectivity_array).skewness,stats.describe(grp3_subjectivity_array).kurtosis)"
   ]
  },
  {
   "cell_type": "markdown",
   "metadata": {},
   "source": [
    "Polarity Skewness: -1.86, Polarity Kurtosis: 14.14\n",
    "Subjectivity Skewness: -0.05, Subjectivity Kurtosis: -0.82\n",
    "For a distribution to be normal Skewness needs to be btw -0.5 & 0.5 and Kurtosis  should be equals to 3\n",
    "Polarity and Subjectivity distributions for group 1 (People with good control) is not normally distributed. Pearson correlation cannot be used to test for correlation btwn HbA1C and each value. The Spearman correlation is a better test."
   ]
  },
  {
   "cell_type": "code",
   "execution_count": 7,
   "metadata": {
    "collapsed": false
   },
   "outputs": [],
   "source": [
    "grp1_hba1c_array = np.array(dframe1['Lab_HbA1C'])\n",
    "\n",
    "#Creating ranked distributions for HbA1C, Polarity and Subjectivity for Group 1\n",
    "grp_1_polar_data_ranked = stats.stats.rankdata(grp1_polarity_array)\n",
    "grp_1_subjectibity_data_ranked = stats.stats.rankdata(grp1_subjectivity_array)\n",
    "grp_1_hba1c_data_ranked = stats.stats.rankdata(grp1_hba1c_array)\n",
    "\n",
    "#Spearman Rho calculation using ranked distributions for Group 1\n",
    "grp1_correlation_polarity = stats.spearmanr(grp_1_hba1c_data_ranked,grp_1_polar_data_ranked)\n",
    "grp1_correlation_subjectivity = stats.spearmanr(grp_1_hba1c_data_ranked,grp_1_subjectibity_data_ranked)"
   ]
  },
  {
   "cell_type": "code",
   "execution_count": 8,
   "metadata": {
    "collapsed": false
   },
   "outputs": [
    {
     "name": "stdout",
     "output_type": "stream",
     "text": [
      "HbA1c & Polarity correlation (Spearman Rho): -0.0596442140184, p-value: 0.381944983317\n",
      "HbA1c & Subjectivity correlation (Spearman Rho): -0.0201430718391, p-value: 0.767961705302\n"
     ]
    }
   ],
   "source": [
    "print \"Group 1 HbA1c & Polarity correlation (Spearman Rho): %s, p-value: %s\" % (grp1_correlation_polarity[0],grp1_correlation_polarity[1])\n",
    "print \"Group 1 HbA1c & Subjectivity correlation (Spearman Rho): %s, p-value: %s\" % (grp1_correlation_subjectivity[0],grp1_correlation_subjectivity[1])"
   ]
  },
  {
   "cell_type": "code",
   "execution_count": 24,
   "metadata": {
    "collapsed": false
   },
   "outputs": [
    {
     "name": "stdout",
     "output_type": "stream",
     "text": [
      "Group 2 HbA1c & Polarity correlation (Spearman Rho): 0.0794526403135, p-value: 0.225972729912\n",
      "Group 2 HbA1c & Subjectivity correlation (Spearman Rho): 0.117585650901, p-value: 0.0726034489114\n"
     ]
    }
   ],
   "source": [
    "grp2_hba1c_array = np.array(dframe2['Lab_HbA1C'])\n",
    "\n",
    "#Creating ranked distributions for HbA1C, Polarity and Subjectivity for Group 2\n",
    "grp_2_polar_data_ranked = stats.stats.rankdata(grp2_polarity_array)\n",
    "grp_2_subjectibity_data_ranked = stats.stats.rankdata(grp2_subjectivity_array)\n",
    "grp_2_hba1c_data_ranked = stats.stats.rankdata(grp2_hba1c_array)\n",
    "\n",
    "#Spearman Rho calculation using ranked distributions Group 2.\n",
    "grp2_correlation_polarity = stats.spearmanr(grp_2_hba1c_data_ranked,grp_2_polar_data_ranked)\n",
    "grp2_correlation_subjectivity = stats.spearmanr(grp_2_hba1c_data_ranked,grp_2_subjectibity_data_ranked)\n",
    "\n",
    "print \"Group 2 HbA1c & Polarity correlation (Spearman Rho): %s, p-value: %s\" % (grp2_correlation_polarity[0],grp2_correlation_polarity[1])\n",
    "print \"Group 2 HbA1c & Subjectivity correlation (Spearman Rho): %s, p-value: %s\" % (grp2_correlation_subjectivity[0],grp2_correlation_subjectivity[1])"
   ]
  },
  {
   "cell_type": "code",
   "execution_count": 25,
   "metadata": {
    "collapsed": false
   },
   "outputs": [
    {
     "name": "stdout",
     "output_type": "stream",
     "text": [
      "Group 3 HbA1c & Polarity correlation (Spearman Rho): -0.00838189514311, p-value: 0.948881469981\n",
      "Group 3 HbA1c & Subjectivity correlation (Spearman Rho): 0.0435502751483, p-value: 0.738938055861\n"
     ]
    }
   ],
   "source": [
    "grp3_hba1c_array = np.array(dframe3['Lab_HbA1C'])\n",
    "\n",
    "#Creating ranked distributions for HbA1C, Polarity and Subjectivity for Group 3\n",
    "grp_3_polar_data_ranked = stats.stats.rankdata(grp3_polarity_array)\n",
    "grp_3_subjectibity_data_ranked = stats.stats.rankdata(grp3_subjectivity_array)\n",
    "grp_3_hba1c_data_ranked = stats.stats.rankdata(grp3_hba1c_array)\n",
    "\n",
    "#Spearman Rho calculation using ranked distributions Group 3.\n",
    "grp3_correlation_polarity = stats.spearmanr(grp_3_hba1c_data_ranked,grp_3_polar_data_ranked)\n",
    "grp3_correlation_subjectivity = stats.spearmanr(grp_3_hba1c_data_ranked,grp_3_subjectibity_data_ranked)\n",
    "\n",
    "print \"Group 3 HbA1c & Polarity correlation (Spearman Rho): %s, p-value: %s\" % (grp3_correlation_polarity[0],grp3_correlation_polarity[1])\n",
    "print \"Group 3 HbA1c & Subjectivity correlation (Spearman Rho): %s, p-value: %s\" % (grp3_correlation_subjectivity[0],grp3_correlation_subjectivity[1])"
   ]
  },
  {
   "cell_type": "code",
   "execution_count": null,
   "metadata": {
    "collapsed": true
   },
   "outputs": [],
   "source": []
  }
 ],
 "metadata": {
  "kernelspec": {
   "display_name": "Python 2",
   "language": "python",
   "name": "python2"
  },
  "language_info": {
   "codemirror_mode": {
    "name": "ipython",
    "version": 2
   },
   "file_extension": ".py",
   "mimetype": "text/x-python",
   "name": "python",
   "nbconvert_exporter": "python",
   "pygments_lexer": "ipython2",
   "version": "2.7.11"
  }
 },
 "nbformat": 4,
 "nbformat_minor": 0
}
